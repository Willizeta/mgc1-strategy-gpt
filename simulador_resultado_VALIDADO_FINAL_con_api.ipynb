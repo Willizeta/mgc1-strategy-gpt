{
 "cells": [
  {
   "cell_type": "code",
   "execution_count": null,
   "id": "6c9b1571",
   "metadata": {},
   "outputs": [],
   "source": [
    "\n",
    "# 🔐 Configuración segura de clave API para OpenAI\n",
    "import os\n",
    "\n",
    "try:\n",
    "    # Detectar si estás en Colab\n",
    "    import google.colab\n",
    "    IN_COLAB = True\n",
    "except ImportError:\n",
    "    IN_COLAB = False\n",
    "\n",
    "# Si estás local, carga desde archivo .env\n",
    "if not IN_COLAB:\n",
    "    from dotenv import load_dotenv\n",
    "    load_dotenv()  # Carga las variables desde .env\n",
    "\n",
    "# Obtener la API Key\n",
    "openai_api_key = os.getenv(\"OPENAI_API_KEY\")\n",
    "\n",
    "# Validar\n",
    "if openai_api_key:\n",
    "    import openai\n",
    "    openai.api_key = openai_api_key\n",
    "    print(\"✅ Clave API de OpenAI cargada correctamente.\")\n",
    "else:\n",
    "    print(\"⚠️ No se encontró la clave 'OPENAI_API_KEY'. Asegúrate de definirla.\")\n"
   ]
  },
  {
   "cell_type": "markdown",
   "id": "9e233fbe",
   "metadata": {
    "papermill": {
     "duration": 0.001269,
     "end_time": "2025-04-02T12:14:03.846923",
     "exception": false,
     "start_time": "2025-04-02T12:14:03.845654",
     "status": "completed"
    },
    "tags": []
   },
   "source": [
    "# 📊 Estrategia MGC1! + GPT\n",
    "Este notebook simula y optimiza estrategias técnicas con asistencia de ChatGPT."
   ]
  },
  {
   "cell_type": "code",
   "execution_count": 1,
   "id": "708fedd2",
   "metadata": {
    "papermill": {
     "duration": 1.265555,
     "end_time": "2025-04-02T12:14:05.114055",
     "exception": false,
     "start_time": "2025-04-02T12:14:03.848500",
     "status": "completed"
    },
    "tags": []
   },
   "outputs": [
    {
     "name": "stdout",
     "output_type": "stream",
     "text": [
      "Requirement already satisfied: openai in c:\\users\\willi\\appdata\\local\\programs\\python\\python313\\lib\\site-packages (1.70.0)\n",
      "Requirement already satisfied: pandas in c:\\users\\willi\\appdata\\local\\programs\\python\\python313\\lib\\site-packages (2.2.3)\n",
      "Requirement already satisfied: numpy in c:\\users\\willi\\appdata\\local\\programs\\python\\python313\\lib\\site-packages (2.2.4)\n",
      "Requirement already satisfied: anyio<5,>=3.5.0 in c:\\users\\willi\\appdata\\local\\programs\\python\\python313\\lib\\site-packages (from openai) (4.9.0)\n",
      "Requirement already satisfied: distro<2,>=1.7.0 in c:\\users\\willi\\appdata\\local\\programs\\python\\python313\\lib\\site-packages (from openai) (1.9.0)\n",
      "Requirement already satisfied: httpx<1,>=0.23.0 in c:\\users\\willi\\appdata\\local\\programs\\python\\python313\\lib\\site-packages (from openai) (0.28.1)\n",
      "Requirement already satisfied: jiter<1,>=0.4.0 in c:\\users\\willi\\appdata\\local\\programs\\python\\python313\\lib\\site-packages (from openai) (0.9.0)\n",
      "Requirement already satisfied: pydantic<3,>=1.9.0 in c:\\users\\willi\\appdata\\local\\programs\\python\\python313\\lib\\site-packages (from openai) (2.10.6)\n",
      "Requirement already satisfied: sniffio in c:\\users\\willi\\appdata\\local\\programs\\python\\python313\\lib\\site-packages (from openai) (1.3.1)\n",
      "Requirement already satisfied: tqdm>4 in c:\\users\\willi\\appdata\\local\\programs\\python\\python313\\lib\\site-packages (from openai) (4.67.1)\n",
      "Requirement already satisfied: typing-extensions<5,>=4.11 in c:\\users\\willi\\appdata\\local\\programs\\python\\python313\\lib\\site-packages (from openai) (4.13.0)\n",
      "Requirement already satisfied: python-dateutil>=2.8.2 in c:\\users\\willi\\appdata\\roaming\\python\\python313\\site-packages (from pandas) (2.9.0.post0)\n",
      "Requirement already satisfied: pytz>=2020.1 in c:\\users\\willi\\appdata\\local\\programs\\python\\python313\\lib\\site-packages (from pandas) (2025.1)\n",
      "Requirement already satisfied: tzdata>=2022.7 in c:\\users\\willi\\appdata\\local\\programs\\python\\python313\\lib\\site-packages (from pandas) (2025.1)\n",
      "Requirement already satisfied: idna>=2.8 in c:\\users\\willi\\appdata\\local\\programs\\python\\python313\\lib\\site-packages (from anyio<5,>=3.5.0->openai) (3.10)\n",
      "Requirement already satisfied: certifi in c:\\users\\willi\\appdata\\local\\programs\\python\\python313\\lib\\site-packages (from httpx<1,>=0.23.0->openai) (2025.1.31)\n",
      "Requirement already satisfied: httpcore==1.* in c:\\users\\willi\\appdata\\local\\programs\\python\\python313\\lib\\site-packages (from httpx<1,>=0.23.0->openai) (1.0.7)\n",
      "Requirement already satisfied: h11<0.15,>=0.13 in c:\\users\\willi\\appdata\\local\\programs\\python\\python313\\lib\\site-packages (from httpcore==1.*->httpx<1,>=0.23.0->openai) (0.14.0)\n",
      "Requirement already satisfied: annotated-types>=0.6.0 in c:\\users\\willi\\appdata\\local\\programs\\python\\python313\\lib\\site-packages (from pydantic<3,>=1.9.0->openai) (0.7.0)\n",
      "Requirement already satisfied: pydantic-core==2.27.2 in c:\\users\\willi\\appdata\\local\\programs\\python\\python313\\lib\\site-packages (from pydantic<3,>=1.9.0->openai) (2.27.2)\n",
      "Requirement already satisfied: six>=1.5 in c:\\users\\willi\\appdata\\roaming\\python\\python313\\site-packages (from python-dateutil>=2.8.2->pandas) (1.17.0)\n",
      "Requirement already satisfied: colorama in c:\\users\\willi\\appdata\\roaming\\python\\python313\\site-packages (from tqdm>4->openai) (0.4.6)\n"
     ]
    }
   ],
   "source": [
    "!pip install openai pandas numpy"
   ]
  },
  {
   "cell_type": "code",
   "execution_count": 2,
   "id": "ba9832f1",
   "metadata": {
    "papermill": {
     "duration": 0.685728,
     "end_time": "2025-04-02T12:14:05.800957",
     "exception": false,
     "start_time": "2025-04-02T12:14:05.115229",
     "status": "completed"
    },
    "tags": []
   },
   "outputs": [],
   "source": [
    "\n",
    "# 🔐 Cargar API Key desde variable de entorno\n",
    "import os\n",
    "import openai\n",
    "\n",
    "openai.api_key = os.getenv(\"OPENAI_API_KEY\")\n"
   ]
  },
  {
   "cell_type": "code",
   "execution_count": 3,
   "id": "011eea72",
   "metadata": {
    "execution": {
     "iopub.execute_input": "2025-04-02T12:14:05.804149Z",
     "iopub.status.busy": "2025-04-02T12:14:05.803970Z",
     "iopub.status.idle": "2025-04-02T12:14:05.806439Z",
     "shell.execute_reply": "2025-04-02T12:14:05.806113Z"
    },
    "papermill": {
     "duration": 0.004634,
     "end_time": "2025-04-02T12:14:05.806977",
     "exception": false,
     "start_time": "2025-04-02T12:14:05.802343",
     "status": "completed"
    },
    "tags": []
   },
   "outputs": [],
   "source": [
    "# Función para preguntarle a ChatGPT sobre resultados de estrategia\n",
    "def preguntar_chatgpt(pregunta, df_resultados):\n",
    "    resumen = df_resultados.describe().to_string()\n",
    "    prompt = f'''\n",
    "Eres un experto en trading. Aquí un resumen de resultados:\n",
    "\n",
    "{resumen}\n",
    "\n",
    "Ahora responde a esta pregunta del usuario:\n",
    "\n",
    "Pregunta: \"{pregunta}\"\n",
    "'''\n",
    "    respuesta = openai.ChatCompletion.create(\n",
    "        model=\"gpt-4\",\n",
    "        messages=[{\"role\": \"user\", \"content\": prompt}],\n",
    "        temperature=0.7\n",
    "    )\n",
    "    return respuesta.choices[0].message[\"content\"]\n"
   ]
  },
  {
   "cell_type": "code",
   "execution_count": null,
   "id": "b330416a",
   "metadata": {},
   "outputs": [],
   "source": [
    "\n",
    "import requests\n",
    "\n",
    "# 🔐 API Key (si fuera necesario para GPT)\n",
    "# openai.api_key = os.getenv(\"OPENAI_API_KEY\", \"sk-reemplaza_con_tu_api\")\n",
    "\n",
    "# 🔔 Telegram config\n",
    "TELEGRAM_TOKEN = \"8130774060:AAErDBLe2jipIazTb7NHZB0KrMhyd7mreX8\"\n",
    "TELEGRAM_CHAT_ID = \"6165137208\"\n",
    "\n",
    "try:\n",
    "    pf_medio = df_resultados[\"profit_factor\"].mean()\n",
    "    ganancias = df_resultados[\"total_profit\"].sum()\n",
    "    trades = df_resultados[\"total_trades\"].sum()\n",
    "\n",
    "    assert pf_medio >= 2, \"❌ Profit Factor promedio es menor a 2\"\n",
    "    assert ganancias > 0, \"❌ Ganancia total negativa o cero\"\n",
    "    assert trades >= 5, \"❌ Menos de 5 operaciones en total\"\n",
    "\n",
    "    mensaje = f\"✅ Estrategia válida:\\nProfit Factor: {pf_medio:.2f}\\nGanancia: {ganancias:.2f}\\nTrades: {trades}\"\n",
    "except Exception as e:\n",
    "    mensaje = f\"⚠️ Estrategia NO válida: {e}\"\n",
    "\n",
    "print(mensaje)\n",
    "\n",
    "# Enviar alerta por Telegram\n",
    "url = f\"https://api.telegram.org/bot{TELEGRAM_TOKEN}/sendMessage\"\n",
    "requests.post(url, data={\"chat_id\": TELEGRAM_CHAT_ID, \"text\": mensaje})\n"
   ]
  }
 ],
 "metadata": {
  "kernelspec": {
   "display_name": "Python 3 (ipykernel)",
   "language": "python",
   "name": "python3"
  },
  "language_info": {
   "codemirror_mode": {
    "name": "ipython",
    "version": 3
   },
   "file_extension": ".py",
   "mimetype": "text/x-python",
   "name": "python",
   "nbconvert_exporter": "python",
   "pygments_lexer": "ipython3",
   "version": "3.13.2"
  },
  "papermill": {
   "default_parameters": {},
   "duration": 3.168063,
   "end_time": "2025-04-02T12:14:05.941455",
   "environment_variables": {},
   "exception": null,
   "input_path": "simulador_mgc1_optimizacion_chatgpt_FINAL_OK.ipynb",
   "output_path": "output/simulador_resultado_2025-04-02_07-14-02.ipynb",
   "parameters": {},
   "start_time": "2025-04-02T12:14:02.773392",
   "version": "2.6.0"
  }
 },
 "nbformat": 4,
 "nbformat_minor": 5
}
