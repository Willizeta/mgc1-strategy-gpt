{
 "cells": [
  {
   "cell_type": "markdown",
   "id": "9e233fbe",
   "metadata": {},
   "source": [
    "# 📊 Estrategia MGC1! + GPT\n",
    "Este notebook simula y optimiza estrategias técnicas con asistencia de ChatGPT."
   ]
  },
  {
   "cell_type": "code",
   "execution_count": null,
   "id": "708fedd2",
   "metadata": {},
   "outputs": [],
   "source": [
    "!pip install openai pandas numpy"
   ]
  },
  {
   "cell_type": "code",
   "execution_count": null,
   "id": "ba9832f1",
   "metadata": {},
   "outputs": [],
   "source": [
    "\n",
    "# 🔐 Cargar API Key desde variable de entorno\n",
    "import os\n",
    "import openai\n",
    "\n",
    "openai.api_key = os.getenv(\"OPENAI_API_KEY\")\n"
   ]
  },
  {
   "cell_type": "code",
   "execution_count": null,
   "id": "011eea72",
   "metadata": {},
   "outputs": [],
   "source": [
    "# Función para preguntarle a ChatGPT sobre resultados de estrategia\n",
    "def preguntar_chatgpt(pregunta, df_resultados):\n",
    "    resumen = df_resultados.describe().to_string()\n",
    "    prompt = f'''\n",
    "Eres un experto en trading. Aquí un resumen de resultados:\n",
    "\n",
    "{resumen}\n",
    "\n",
    "Ahora responde a esta pregunta del usuario:\n",
    "\n",
    "Pregunta: \"{pregunta}\"\n",
    "'''\n",
    "    respuesta = openai.ChatCompletion.create(\n",
    "        model=\"gpt-4\",\n",
    "        messages=[{\"role\": \"user\", \"content\": prompt}],\n",
    "        temperature=0.7\n",
    "    )\n",
    "    return respuesta.choices[0].message[\"content\"]\n"
   ]
  }
 ],
 "metadata": {},
 "nbformat": 4,
 "nbformat_minor": 5
}
