{
 "cells": [
  {
   "cell_type": "code",
   "execution_count": null,
   "id": "de98f874",
   "metadata": {},
   "outputs": [],
   "source": [
    "\n",
    "!pip install openai pandas requests\n"
   ]
  },
  {
   "cell_type": "code",
   "execution_count": null,
   "id": "7074d62e",
   "metadata": {},
   "outputs": [],
   "source": [
    "\n",
    "import os\n",
    "import openai\n",
    "import pandas as pd\n",
    "import requests\n"
   ]
  },
  {
   "cell_type": "code",
   "execution_count": null,
   "id": "7297671c",
   "metadata": {},
   "outputs": [],
   "source": [
    "\n",
    "# 🔐 Configura tu API Key de OpenAI\n",
    "openai.api_key = os.getenv(\"OPENAI_API_KEY\", \"sk-reemplaza_con_tu_api\")\n",
    "\n",
    "# 🔔 Telegram config (opcional)\n",
    "TELEGRAM_TOKEN = \"tu_token_aqui\"\n",
    "TELEGRAM_CHAT_ID = \"tu_chat_id\"\n"
   ]
  },
  {
   "cell_type": "code",
   "execution_count": null,
   "id": "f74e6b68",
   "metadata": {},
   "outputs": [],
   "source": [
    "\n",
    "# Simulamos resultados para ejemplo\n",
    "df_resultados = pd.DataFrame({\n",
    "    \"profit_factor\": [2.1, 2.3, 3.2],\n",
    "    \"total_profit\": [200, 500, 120],\n",
    "    \"total_trades\": [6, 9, 7]\n",
    "})\n"
   ]
  },
  {
   "cell_type": "code",
   "execution_count": null,
   "id": "8b84df10",
   "metadata": {},
   "outputs": [],
   "source": [
    "\n",
    "# ✅ Validación automática de resultados\n",
    "try:\n",
    "    pf_medio = df_resultados[\"profit_factor\"].mean()\n",
    "    ganancias = df_resultados[\"total_profit\"].sum()\n",
    "    trades = df_resultados[\"total_trades\"].sum()\n",
    "\n",
    "    assert pf_medio >= 2, \"❌ Profit Factor promedio es menor a 2\"\n",
    "    assert ganancias > 0, \"❌ Ganancia total negativa o cero\"\n",
    "    assert trades >= 5, \"❌ Menos de 5 operaciones en total\"\n",
    "\n",
    "    mensaje = f\"✅ Estrategia válida:\\nProfit Factor: {pf_medio:.2f}\\nGanancia: {ganancias:.2f}\\nTrades: {trades}\"\n",
    "    print(mensaje)\n",
    "\n",
    "except Exception as e:\n",
    "    mensaje = f\"⚠️ Estrategia NO válida: {e}\"\n",
    "    print(mensaje)\n"
   ]
  },
  {
   "cell_type": "code",
   "execution_count": null,
   "id": "39783c79",
   "metadata": {},
   "outputs": [],
   "source": [
    "\n",
    "# Enviar alerta a Telegram (si se configura)\n",
    "if TELEGRAM_TOKEN != \"tu_token_aqui\":\n",
    "    url = f\"https://api.telegram.org/bot{TELEGRAM_TOKEN}/sendMessage\"\n",
    "    requests.post(url, data={\"chat_id\": TELEGRAM_CHAT_ID, \"text\": mensaje})\n"
   ]
  }
 ],
 "metadata": {},
 "nbformat": 4,
 "nbformat_minor": 5
}
