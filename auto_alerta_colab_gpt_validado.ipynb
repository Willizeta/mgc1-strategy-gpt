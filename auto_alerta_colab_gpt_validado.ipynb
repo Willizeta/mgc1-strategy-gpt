{
 "cells": [
  {
   "cell_type": "code",
   "execution_count": null,
   "id": "5f0dad23",
   "metadata": {},
   "outputs": [],
   "source": [
    "\n",
    "!pip install openai pandas requests\n"
   ]
  },
  {
   "cell_type": "code",
   "execution_count": null,
   "id": "ca342683",
   "metadata": {},
   "outputs": [],
   "source": [
    "\n",
    "import os\n",
    "import openai\n",
    "import pandas as pd\n",
    "import requests\n"
   ]
  },
  {
   "cell_type": "code",
   "execution_count": null,
   "id": "99e33411",
   "metadata": {},
   "outputs": [],
   "source": [
    "\n",
    "# 🔐 API Key de OpenAI (modificable si usas entorno seguro)\n",
    "openai.api_key = os.getenv(\"OPENAI_API_KEY\", \"sk-reemplaza_con_tu_api\")\n",
    "\n",
    "# 🔔 Telegram\n",
    "TELEGRAM_TOKEN = \"8130774060:AAErDBLe2jipIazTb7NHZB0KrMhyd7mreX8\"\n",
    "TELEGRAM_CHAT_ID = \"6165137208\"\n"
   ]
  },
  {
   "cell_type": "code",
   "execution_count": null,
   "id": "e6f7d2ee",
   "metadata": {},
   "outputs": [],
   "source": [
    "\n",
    "df_resultados = pd.DataFrame({\n",
    "    \"profit_factor\": [2.1, 2.3, 3.2],\n",
    "    \"total_profit\": [200, 500, 120],\n",
    "    \"total_trades\": [6, 9, 7]\n",
    "})\n"
   ]
  },
  {
   "cell_type": "code",
   "execution_count": null,
   "id": "2ff96048",
   "metadata": {},
   "outputs": [],
   "source": [
    "\n",
    "try:\n",
    "    pf_medio = df_resultados[\"profit_factor\"].mean()\n",
    "    ganancias = df_resultados[\"total_profit\"].sum()\n",
    "    trades = df_resultados[\"total_trades\"].sum()\n",
    "\n",
    "    assert pf_medio >= 2, \"❌ Profit Factor promedio es menor a 2\"\n",
    "    assert ganancias > 0, \"❌ Ganancia total negativa o cero\"\n",
    "    assert trades >= 5, \"❌ Menos de 5 operaciones en total\"\n",
    "\n",
    "    mensaje = f\"✅ Estrategia válida:\\nProfit Factor: {pf_medio:.2f}\\nGanancia: {ganancias:.2f}\\nTrades: {trades}\"\n",
    "    print(mensaje)\n",
    "\n",
    "except Exception as e:\n",
    "    mensaje = f\"⚠️ Estrategia NO válida: {e}\"\n",
    "    print(mensaje)\n"
   ]
  },
  {
   "cell_type": "code",
   "execution_count": null,
   "id": "52ea13f2",
   "metadata": {},
   "outputs": [],
   "source": [
    "\n",
    "# Enviar alerta por Telegram\n",
    "url = f\"https://api.telegram.org/bot{TELEGRAM_TOKEN}/sendMessage\"\n",
    "requests.post(url, data={\"chat_id\": TELEGRAM_CHAT_ID, \"text\": mensaje})\n"
   ]
  }
 ],
 "metadata": {},
 "nbformat": 4,
 "nbformat_minor": 5
}
